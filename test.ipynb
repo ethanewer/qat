{
 "cells": [
  {
   "cell_type": "code",
   "execution_count": null,
   "id": "71515840",
   "metadata": {},
   "outputs": [],
   "source": [
    "import os\n",
    "from safetensors.torch import load_file\n",
    "\n",
    "\n",
    "dir_path = \"local/qwen3-4b/Qwen/Qwen3-4B-4bit-qat\"\n",
    "state_dict = {}\n",
    "for fname in sorted(os.listdir(dir_path)):\n",
    "    if fname.endswith(\".safetensors\"):\n",
    "        state_dict.update(load_file(os.path.join(dir_path, fname)))"
   ]
  },
  {
   "cell_type": "code",
   "execution_count": null,
   "id": "032b9e75",
   "metadata": {},
   "outputs": [],
   "source": [
    "next(iter(state_dict.values())).dtype"
   ]
  },
  {
   "cell_type": "code",
   "execution_count": null,
   "id": "2f963995",
   "metadata": {},
   "outputs": [],
   "source": [
    "import torch\n",
    "from paretoq_qat import get_quantized_model_from_qat_state_dict\n",
    "\n",
    "model = get_quantized_model_from_qat_state_dict(\n",
    "    state_dict, \n",
    "    \"Qwen/Qwen3-4b\", \n",
    "    nbits=4,\n",
    "    torch_dtype=torch.float32,\n",
    "    device_map=\"cpu\",\n",
    ")"
   ]
  },
  {
   "cell_type": "code",
   "execution_count": null,
   "id": "5a83718c",
   "metadata": {},
   "outputs": [],
   "source": [
    "from transformers import AutoModelForCausalLM  # type: ignore\n",
    "\n",
    "model1 = AutoModelForCausalLM.from_pretrained(\n",
    "    \"test\",\n",
    "    torch_dtype=torch.bfloat16,\n",
    "    device_map=\"cpu\",\n",
    ")\n",
    "\n",
    "model2 = AutoModelForCausalLM.from_pretrained(\n",
    "    \"Qwen/Qwen3-0.6B\",\n",
    "    torch_dtype=torch.bfloat16,\n",
    "    device_map=\"cpu\",\n",
    ")\n",
    "\n",
    "replace_linear_with_quantized_linear(model2.model, w_bits=4)\n",
    "\n",
    "input_ids = torch.arange(32)[None]\n",
    "\n",
    "with torch.no_grad():\n",
    "    out1 = model1(input_ids)\n",
    "    out2 = model2(input_ids)\n",
    "\n",
    "torch.allclose(out1.logits, out2.logits)"
   ]
  },
  {
   "cell_type": "code",
   "execution_count": null,
   "id": "55ea1706",
   "metadata": {},
   "outputs": [],
   "source": []
  }
 ],
 "metadata": {
  "kernelspec": {
   "display_name": "Python 3",
   "language": "python",
   "name": "python3"
  },
  "language_info": {
   "codemirror_mode": {
    "name": "ipython",
    "version": 3
   },
   "file_extension": ".py",
   "mimetype": "text/x-python",
   "name": "python",
   "nbconvert_exporter": "python",
   "pygments_lexer": "ipython3",
   "version": "3.10.18"
  }
 },
 "nbformat": 4,
 "nbformat_minor": 5
}
